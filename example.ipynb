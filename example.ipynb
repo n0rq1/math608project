{
 "cells": [
  {
   "cell_type": "code",
   "execution_count": 57,
   "id": "cb089c16-35da-436d-a07e-69661d219d0d",
   "metadata": {},
   "outputs": [],
   "source": [
    "import pandas as pd\n",
    "import polars as pl\n",
    "import numpy as np\n",
    "import time\n",
    "import matplotlib.pyplot as plt\n",
    "import graphviz"
   ]
  },
  {
   "cell_type": "code",
   "execution_count": 75,
   "id": "73d45bd6-dcb6-4afb-b0ac-19ddd41f1551",
   "metadata": {},
   "outputs": [
    {
     "data": {
      "text/html": [
       "<div>\n",
       "<style scoped>\n",
       "    .dataframe tbody tr th:only-of-type {\n",
       "        vertical-align: middle;\n",
       "    }\n",
       "\n",
       "    .dataframe tbody tr th {\n",
       "        vertical-align: top;\n",
       "    }\n",
       "\n",
       "    .dataframe thead th {\n",
       "        text-align: right;\n",
       "    }\n",
       "</style>\n",
       "<table border=\"1\" class=\"dataframe\">\n",
       "  <thead>\n",
       "    <tr style=\"text-align: right;\">\n",
       "      <th></th>\n",
       "      <th>A</th>\n",
       "      <th>B</th>\n",
       "      <th>C</th>\n",
       "    </tr>\n",
       "  </thead>\n",
       "  <tbody>\n",
       "    <tr>\n",
       "      <th>0</th>\n",
       "      <td>36</td>\n",
       "      <td>0.361177</td>\n",
       "      <td>Y</td>\n",
       "    </tr>\n",
       "    <tr>\n",
       "      <th>1</th>\n",
       "      <td>2</td>\n",
       "      <td>0.135574</td>\n",
       "      <td>X</td>\n",
       "    </tr>\n",
       "    <tr>\n",
       "      <th>2</th>\n",
       "      <td>64</td>\n",
       "      <td>0.029558</td>\n",
       "      <td>Z</td>\n",
       "    </tr>\n",
       "  </tbody>\n",
       "</table>\n",
       "</div>"
      ],
      "text/plain": [
       "    A         B  C\n",
       "0  36  0.361177  Y\n",
       "1   2  0.135574  X\n",
       "2  64  0.029558  Z"
      ]
     },
     "execution_count": 75,
     "metadata": {},
     "output_type": "execute_result"
    }
   ],
   "source": [
    "def spam_data(rows):\n",
    "    data = {\n",
    "        \"A\": np.random.randint(1,100,size=rows),\n",
    "        \"B\": np.random.rand(rows),\n",
    "        \"C\": np.random.choice((\"X\", \"Y\", \"Z\"), size=rows)\n",
    "    }\n",
    "    return pd.DataFrame(data)\n",
    "\n",
    "rows = 10 ** 6\n",
    "df_pd = spam_data(rows)\n",
    "df_pl = pl.DataFrame(df_pd)\n",
    "lazy_df = df_pl.lazy()\n",
    "\n",
    "df_pd.head(3)"
   ]
  },
  {
   "cell_type": "code",
   "execution_count": 77,
   "id": "87ad00a4-10af-4141-a144-de32cd866fea",
   "metadata": {},
   "outputs": [
    {
     "name": "stdout",
     "output_type": "stream",
     "text": [
      "Pandas results:\n",
      "    C         B\n",
      "0  X  0.499335\n",
      "1  Y  0.499146\n",
      "2  Z  0.500485\n",
      "Polars results:\n",
      "    C         B\n",
      "0  X  0.499335\n",
      "1  Y  0.499146\n",
      "2  Z  0.500485\n",
      "Polars lazy results: \n",
      "    C         B\n",
      "0  X  0.499335\n",
      "1  Y  0.499146\n",
      "2  Z  0.500485\n"
     ]
    },
    {
     "data": {
      "image/png": "[encoded data removed]",
      "text/plain": [
       "<Figure size 640x480 with 1 Axes>"
      ]
     },
     "metadata": {},
     "output_type": "display_data"
    }
   ],
   "source": [
    "\n",
    "'''\n",
    "Pandas\n",
    "'''\n",
    "start = time.time()\n",
    "filtered_pd = df_pd[df_pd[\"A\"] > 50]\n",
    "res_pd = (\n",
    "    filtered_pd.groupby(\"C\")\n",
    "    .agg({\"B\":\"mean\"})\n",
    "    .reset_index()\n",
    ")\n",
    "pd_time = time.time() - start\n",
    "\n",
    "'''\n",
    "Polars\n",
    "'''\n",
    "start_pl = time.time()\n",
    "filtered_pl = df_pl.filter(pl.col(\"A\")>50)\n",
    "res_pl = (\n",
    "    filtered_pl.group_by(\"C\")\n",
    "    .agg(pl.mean(\"B\"))\n",
    "    .sort(\"C\")\n",
    "    .to_pandas()\n",
    ")\n",
    "pl_time=time.time() - start_pl\n",
    "\n",
    "'''\n",
    "Polars lazy\n",
    "'''\n",
    "start_lazy = time.time()\n",
    "res_lazy = (\n",
    "    lazy_df\n",
    "    .filter(pl.col(\"A\") > 50)\n",
    "    .group_by(\"C\")\n",
    "    .agg(pl.mean(\"B\"))\n",
    "    .sort(\"C\")\n",
    ")\n",
    "collect_start = time.time()\n",
    "res_lazy = res_lazy.collect().to_pandas()\n",
    "lazy_time = time.time() - start_lazy\n",
    "collect_time = time.time() - collect_start\n",
    "\n",
    "print(f\"Pandas results:\\n {res_pd}\")\n",
    "print(f\"Polars results:\\n {res_pl}\")\n",
    "print(f\"Polars lazy results: \\n {res_lazy}\")\n",
    "\n",
    "operations = [\"Pandas\", \"Polars\", \"Polars Lazy\"]\n",
    "times = [pd_time, pl_time, lazy_time]\n",
    "x = np.arange(len(operations))\n",
    "\n",
    "plt.bar(x, times, width=0.4, color=['black', 'darkgrey', 'grey'], tick_label=operations)\n",
    "plt.ylabel(\"Time (seconds)\")\n",
    "plt.title(\"Performance Comparison\")\n",
    "plt.show()"
   ]
  },
  {
   "cell_type": "code",
   "execution_count": 79,
   "id": "9cb1671f-c98e-48f1-8502-8cbe594352b1",
   "metadata": {},
   "outputs": [
    {
     "name": "stdout",
     "output_type": "stream",
     "text": [
      "Pandas Execution time: 31.078026 seconds\n",
      "Polars Execution time: 19.242140 seconds\n",
      "Polars LazyFrame Execution time: 12.375363 seconds\n"
     ]
    }
   ],
   "source": [
    "#Pandas\n",
    "start_time = time.time()\n",
    "df_pd = pd.read_csv(\"dataset.csv\")\n",
    "end_time = time.time()\n",
    "\n",
    "execution_time = end_time - start_time\n",
    "print(f\"Pandas Execution time: {execution_time:.6f} seconds\")\n",
    "\n",
    "#Polars\n",
    "start_time = time.time()\n",
    "df_pl = pl.read_csv(\"dataset.csv\")\n",
    "end_time = time.time()\n",
    "\n",
    "execution_time = end_time - start_time\n",
    "print(f\"Polars Execution time: {execution_time:.6f} seconds\")\n",
    "\n",
    "# Polars LF\n",
    "start_time = time.time()\n",
    "lazy_df = pl.read_csv(\"dataset.csv\").lazy()\n",
    "end_time = time.time()\n",
    "\n",
    "execution_time = end_time - start_time\n",
    "print(f\"Polars LazyFrame Execution time: {execution_time:.6f} seconds\")"
   ]
  },
  {
   "cell_type": "code",
   "execution_count": 80,
   "id": "22755070-3161-41f8-b0a0-51644161f298",
   "metadata": {},
   "outputs": [
    {
     "data": {
      "text/html": [
       "<div><style>\n",
       ".dataframe > thead > tr,\n",
       ".dataframe > tbody > tr {\n",
       "  text-align: right;\n",
       "  white-space: pre-wrap;\n",
       "}\n",
       "</style>\n",
       "<small>shape: (1, 5)</small><table border=\"1\" class=\"dataframe\"><thead><tr><th>app_id</th><th>app_name</th><th>review_text</th><th>review_score</th><th>review_votes</th></tr><tr><td>i64</td><td>str</td><td>str</td><td>i64</td><td>i64</td></tr></thead><tbody><tr><td>10</td><td>&quot;Counter-Strike&quot;</td><td>&quot;Ruined my life.&quot;</td><td>1</td><td>0</td></tr></tbody></table></div>"
      ],
      "text/plain": [
       "shape: (1, 5)\n",
       "┌────────┬────────────────┬─────────────────┬──────────────┬──────────────┐\n",
       "│ app_id ┆ app_name       ┆ review_text     ┆ review_score ┆ review_votes │\n",
       "│ ---    ┆ ---            ┆ ---             ┆ ---          ┆ ---          │\n",
       "│ i64    ┆ str            ┆ str             ┆ i64          ┆ i64          │\n",
       "╞════════╪════════════════╪═════════════════╪══════════════╪══════════════╡\n",
       "│ 10     ┆ Counter-Strike ┆ Ruined my life. ┆ 1            ┆ 0            │\n",
       "└────────┴────────────────┴─────────────────┴──────────────┴──────────────┘"
      ]
     },
     "execution_count": 80,
     "metadata": {},
     "output_type": "execute_result"
    }
   ],
   "source": [
    "df_pl.head(1)"
   ]
  },
  {
   "cell_type": "code",
   "execution_count": 66,
   "id": "81312c24-b219-49b8-84c1-b836fe523744",
   "metadata": {},
   "outputs": [
    {
     "name": "stdout",
     "output_type": "stream",
     "text": [
      "Execution time: 21.311403 seconds\n",
      "                                                    avg_text_length\n",
      "app_name                                                           \n",
      "Dark Parables: The Swan Princess and The Dire T...           7403.0\n",
      "Tremor                                                       4262.5\n",
      "Massive Assault Network 2                                    4017.5\n"
     ]
    }
   ],
   "source": [
    "# Pandas\n",
    "start_time = time.time()\n",
    "result = (\n",
    "    df_pd.assign(text_length=df_pd[\"review_text\"].str.len())\n",
    "    .groupby(\"app_name\", as_index=True)\n",
    "    .agg(avg_text_length=(\"text_length\", \"mean\"))\n",
    "    .sort_values(\"avg_text_length\", ascending=False)\n",
    ")\n",
    "end_time = time.time()\n",
    "\n",
    "execution_time = end_time - start_time\n",
    "print(f\"Execution time: {execution_time:.6f} seconds\")\n",
    "print(result.head(3))"
   ]
  },
  {
   "cell_type": "code",
   "execution_count": 70,
   "id": "0425be80-0223-4236-909c-b889f1ac8a30",
   "metadata": {},
   "outputs": [
    {
     "name": "stdout",
     "output_type": "stream",
     "text": [
      "Execution time: 4.917652 seconds\n",
      "shape: (3, 2)\n",
      "┌─────────────────────────────────┬─────────────────┐\n",
      "│ app_name                        ┆ avg_text_length │\n",
      "│ ---                             ┆ ---             │\n",
      "│ str                             ┆ f64             │\n",
      "╞═════════════════════════════════╪═════════════════╡\n",
      "│ Dark Parables: The Swan Prince… ┆ 7403.0          │\n",
      "│ Tremor                          ┆ 4262.5          │\n",
      "│ Massive Assault Network 2       ┆ 4017.5          │\n",
      "└─────────────────────────────────┴─────────────────┘\n"
     ]
    }
   ],
   "source": [
    "# Polars DF\n",
    "start_time = time.time()\n",
    "result = (\n",
    "    df_pl.with_columns(\n",
    "        pl.col(\"review_text\").str.len_chars().alias(\"text_length\")\n",
    "    )\n",
    "    .group_by(\"app_name\")\n",
    "    .agg(\n",
    "        pl.col(\"text_length\").mean().alias(\"avg_text_length\")\n",
    "    )\n",
    "    .sort(\"avg_text_length\", descending=True)\n",
    ")\n",
    "end_time = time.time()\n",
    "\n",
    "execution_time = end_time - start_time\n",
    "print(f\"Execution time: {execution_time:.6f} seconds\")\n",
    "print(result.head(3))"
   ]
  },
  {
   "cell_type": "code",
   "execution_count": null,
   "id": "645867df-779e-4700-9e21-8a813fb4eedc",
   "metadata": {},
   "outputs": [],
   "source": []
  },
  {
   "cell_type": "code",
   "execution_count": 74,
   "id": "dbab15f3-63d6-4668-a2b5-1c964127f50f",
   "metadata": {},
   "outputs": [
    {
     "name": "stdout",
     "output_type": "stream",
     "text": [
      "Execution time: 2.793241 seconds\n",
      "shape: (3, 2)\n",
      "┌─────────────────────────────────┬─────────────────┐\n",
      "│ app_name                        ┆ avg_text_length │\n",
      "│ ---                             ┆ ---             │\n",
      "│ str                             ┆ f64             │\n",
      "╞═════════════════════════════════╪═════════════════╡\n",
      "│ Dark Parables: The Swan Prince… ┆ 7403.0          │\n",
      "│ Tremor                          ┆ 4262.5          │\n",
      "│ Massive Assault Network 2       ┆ 4017.5          │\n",
      "└─────────────────────────────────┴─────────────────┘\n"
     ]
    }
   ],
   "source": [
    "# Polars LF\n",
    "start_time = time.time()\n",
    "\n",
    "result = (\n",
    "    df_pl.lazy()\n",
    "    .with_columns(\n",
    "        pl.col(\"review_text\").str.len_chars().alias(\"text_length\")\n",
    "    )\n",
    "    .group_by(\"app_name\")\n",
    "    .agg(\n",
    "        pl.col(\"text_length\").mean().alias(\"avg_text_length\")\n",
    "    )\n",
    "    .sort(\"avg_text_length\", descending=True)\n",
    "    .collect()\n",
    ")\n",
    "\n",
    "end_time = time.time()\n",
    "\n",
    "execution_time = end_time - start_time\n",
    "print(f\"Execution time: {execution_time:.6f} seconds\")\n",
    "print(result.head(3))"
   ]
  },
  {
   "cell_type": "code",
   "execution_count": null,
   "id": "e0fb384b-ab02-4673-8b21-5637164c5d0c",
   "metadata": {},
   "outputs": [],
   "source": []
  }
 ],
 "metadata": {
  "kernelspec": {
   "display_name": "Python 3 (ipykernel)",
   "language": "python",
   "name": "python3"
  },
  "language_info": {
   "codemirror_mode": {
    "name": "ipython",
    "version": 3
   },
   "file_extension": ".py",
   "mimetype": "text/x-python",
   "name": "python",
   "nbconvert_exporter": "python",
   "pygments_lexer": "ipython3",
   "version": "3.12.5"
  }
 },
 "nbformat": 4,
 "nbformat_minor": 5
}
